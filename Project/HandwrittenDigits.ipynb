{
 "cells": [
  {
   "cell_type": "markdown",
   "id": "9c0ced78",
   "metadata": {},
   "source": [
    "# Handwritten Digit Recognition using Neural Networks\n",
    "\n",
    "This notebook demonstrates how to create a handwritten digit recognizer using the MNIST dataset and neural networks."
   ]
  },
  {
   "cell_type": "code",
   "execution_count": 10,
   "id": "1344d091",
   "metadata": {},
   "outputs": [],
   "source": [
    "# Import required libraries\n",
    "import numpy as np\n",
    "from PIL import Image,ImageOps\n",
    "import matplotlib.pyplot as plt\n",
    "from sklearn.neural_network import MLPClassifier\n",
    "from sklearn.metrics import confusion_matrix, accuracy_score\n",
    "from tensorflow.keras.datasets import mnist\n",
    "import seaborn as sns"
   ]
  },
  {
   "cell_type": "markdown",
   "id": "0ea443c7",
   "metadata": {},
   "source": [
    "## 1. Load and Prepare Data"
   ]
  },
  {
   "cell_type": "code",
   "execution_count": 11,
   "id": "fcdb7f0b",
   "metadata": {},
   "outputs": [
    {
     "name": "stdout",
     "output_type": "stream",
     "text": [
      "Training images shape: (60000, 28, 28)\n",
      "Training labels shape: (60000,)\n",
      "Test images shape: (10000, 28, 28)\n",
      "Test labels shape: (10000,)\n"
     ]
    }
   ],
   "source": [
    "# Load MNIST dataset\n",
    "(x_train, y_train), (x_test, y_test) = mnist.load_data()\n",
    "\n",
    "# Display dataset shapes\n",
    "print(f\"Training images shape: {x_train.shape}\")\n",
    "print(f\"Training labels shape: {y_train.shape}\")\n",
    "print(f\"Test images shape: {x_test.shape}\")\n",
    "print(f\"Test labels shape: {y_test.shape}\")"
   ]
  },
  {
   "cell_type": "markdown",
   "id": "1dd263f3",
   "metadata": {},
   "source": [
    "## 2. Preprocess the Data"
   ]
  },
  {
   "cell_type": "code",
   "execution_count": 12,
   "id": "90346f57",
   "metadata": {},
   "outputs": [
    {
     "name": "stdout",
     "output_type": "stream",
     "text": [
      "Preprocessed shapes:\n",
      "Training data: (60000, 784)\n",
      "Test data: (10000, 784)\n"
     ]
    }
   ],
   "source": [
    "# Flatten the images and scale the pixel values\n",
    "x_train_flat = x_train.reshape((-1, 28*28)) / 255.0\n",
    "x_test_flat = x_test.reshape((-1, 28*28)) / 255.0\n",
    "\n",
    "print(\"Preprocessed shapes:\")\n",
    "print(f\"Training data: {x_train_flat.shape}\")\n",
    "print(f\"Test data: {x_test_flat.shape}\")"
   ]
  },
  {
   "cell_type": "markdown",
   "id": "35017c00",
   "metadata": {},
   "source": [
    "## 3. Create and Train the Model"
   ]
  },
  {
   "cell_type": "code",
   "execution_count": 13,
   "id": "cacbfce9",
   "metadata": {},
   "outputs": [
    {
     "name": "stdout",
     "output_type": "stream",
     "text": [
      "Training the model...\n",
      "Iteration 1, loss = 0.38502588\n",
      "Iteration 2, loss = 0.14950580\n",
      "Iteration 3, loss = 0.10273425\n",
      "Iteration 4, loss = 0.07876612\n",
      "Iteration 5, loss = 0.06287742\n",
      "Iteration 6, loss = 0.05150452\n",
      "Iteration 7, loss = 0.04168628\n",
      "Iteration 8, loss = 0.03421156\n",
      "Iteration 9, loss = 0.02852425\n",
      "Iteration 10, loss = 0.02430944\n",
      "Iteration 11, loss = 0.02026940\n",
      "Iteration 12, loss = 0.01670841\n",
      "Iteration 13, loss = 0.01354651\n",
      "Iteration 14, loss = 0.01485205\n",
      "Iteration 15, loss = 0.01153144\n",
      "Iteration 16, loss = 0.01095233\n",
      "Iteration 17, loss = 0.00810442\n",
      "Iteration 18, loss = 0.00709180\n",
      "Iteration 19, loss = 0.00439719\n",
      "Iteration 20, loss = 0.00553457\n",
      "Iteration 21, loss = 0.00938955\n",
      "Iteration 22, loss = 0.01235736\n",
      "Iteration 23, loss = 0.00895896\n",
      "Iteration 24, loss = 0.00536263\n",
      "Iteration 25, loss = 0.00191700\n",
      "Iteration 26, loss = 0.00300111\n",
      "Iteration 27, loss = 0.00343406\n",
      "Iteration 28, loss = 0.00424480\n",
      "Iteration 29, loss = 0.01304120\n",
      "Iteration 30, loss = 0.00853750\n",
      "Iteration 31, loss = 0.00407489\n",
      "Iteration 32, loss = 0.00186391\n",
      "Iteration 33, loss = 0.00109887\n",
      "Iteration 34, loss = 0.00061926\n",
      "Iteration 35, loss = 0.00052885\n",
      "Iteration 36, loss = 0.00050106\n",
      "Iteration 37, loss = 0.00048241\n",
      "Iteration 38, loss = 0.00046990\n",
      "Iteration 39, loss = 0.00045760\n",
      "Iteration 40, loss = 0.00044728\n",
      "Iteration 41, loss = 0.00043731\n",
      "Iteration 42, loss = 0.00042759\n",
      "Iteration 43, loss = 0.00041993\n",
      "Iteration 44, loss = 0.00041115\n",
      "Iteration 45, loss = 0.00040300\n",
      "Training loss did not improve more than tol=0.000100 for 10 consecutive epochs. Stopping.\n",
      "Training complete!\n"
     ]
    }
   ],
   "source": [
    "# Create the neural network\n",
    "mlp = MLPClassifier(\n",
    "    hidden_layer_sizes=(128, 64),  # Two hidden layers\n",
    "    max_iter=300,\n",
    "    random_state=42,\n",
    "    verbose=True\n",
    ")\n",
    "\n",
    "# Train the model\n",
    "print(\"Training the model...\")\n",
    "mlp.fit(x_train_flat, y_train)\n",
    "print(\"Training complete!\")"
   ]
  },
  {
   "cell_type": "markdown",
   "id": "28c5be25",
   "metadata": {},
   "source": [
    "## 4. Evaluate the Model"
   ]
  },
  {
   "cell_type": "code",
   "execution_count": 14,
   "id": "f4f5e5c1",
   "metadata": {},
   "outputs": [
    {
     "name": "stdout",
     "output_type": "stream",
     "text": [
      "Model accuracy: 98.14%\n"
     ]
    }
   ],
   "source": [
    "# Make predictions\n",
    "predictions = mlp.predict(x_test_flat)\n",
    "\n",
    "# Calculate accuracy\n",
    "accuracy = accuracy_score(y_test, predictions)\n",
    "print(f\"Model accuracy: {accuracy * 100:.2f}%\")\n",
    "# Generate confusion matrix\n",
    "cm = confusion_matrix(y_test, predictions)\n"
   ]
  },
  {
   "cell_type": "markdown",
   "id": "3719e150",
   "metadata": {},
   "source": [
    "5.Acurracy Calculating"
   ]
  },
  {
   "cell_type": "code",
   "execution_count": 15,
   "id": "a357bc25",
   "metadata": {},
   "outputs": [
    {
     "name": "stdout",
     "output_type": "stream",
     "text": [
      "Calculated accuracy from confusion matrix: 98.14%\n"
     ]
    }
   ],
   "source": [
    "def acc(cm):\n",
    "    return np.trace(cm) / np.sum(cm)\n",
    "print(f\"Calculated accuracy from confusion matrix: {acc(cm) * 100:.2f}%\")"
   ]
  },
  {
   "cell_type": "markdown",
   "id": "43bbe4ae",
   "metadata": {},
   "source": [
    "#Testing On User Input Data\n"
   ]
  },
  {
   "cell_type": "code",
   "execution_count": null,
   "id": "ec8697c7",
   "metadata": {},
   "outputs": [
    {
     "name": "stdout",
     "output_type": "stream",
     "text": [
      "The Digit In The Image Is:\n",
      "[7]\n"
     ]
    }
   ],
   "source": [
    "\n",
    "\n",
    "from PIL import Image, ImageOps\n",
    "import numpy as np\n",
    "\n",
    "def preprocess_image():\n",
    "    img = Image.open(r\"download.png\").convert(\"L\")   # grayscale\n",
    "    img = ImageOps.invert(img)            # white digit, black bg\n",
    "    img = img.resize((28, 28))            # resize\n",
    "    img_array = np.array(img) / 255.0     # normalize 0–1\n",
    "    return img_array.flatten().reshape(1, -1)\n",
    "test_img = preprocess_image()\n",
    "print(\"The Digit In The Image Is:\")\n",
    "print( mlp.predict(test_img))\n",
    "print(\"Thank You For Using My Project\")\n",
    "\n"
   ]
  },
  {
   "cell_type": "markdown",
   "id": "eda9baa0",
   "metadata": {},
   "source": []
  },
  {
   "cell_type": "markdown",
   "id": "f00ff58d",
   "metadata": {},
   "source": []
  }
 ],
 "metadata": {
  "kernelspec": {
   "display_name": "Python 3",
   "language": "python",
   "name": "python3"
  },
  "language_info": {
   "codemirror_mode": {
    "name": "ipython",
    "version": 3
   },
   "file_extension": ".py",
   "mimetype": "text/x-python",
   "name": "python",
   "nbconvert_exporter": "python",
   "pygments_lexer": "ipython3",
   "version": "3.13.3"
  }
 },
 "nbformat": 4,
 "nbformat_minor": 5
}
